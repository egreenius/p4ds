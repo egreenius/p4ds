{
  "nbformat": 4,
  "nbformat_minor": 0,
  "metadata": {
    "colab": {
      "name": "Lesson2_Numpy.ipynb",
      "provenance": [],
      "collapsed_sections": []
    },
    "kernelspec": {
      "name": "python3",
      "display_name": "Python 3"
    }
  },
  "cells": [
    {
      "cell_type": "markdown",
      "metadata": {
        "id": "52NQB9xg4hvh"
      },
      "source": [
        "## Task 1\n",
        "> *Импортируйте библиотеку Numpy и дайте ей псевдоним np.\n",
        "Создайте массив Numpy под названием a размером 5x2, то есть состоящий из 5 строк и 2 столбцов. Первый столбец должен содержать числа 1, 2, 3, 3, 1, а второй - числа 6, 8, 11, 10, 7. Будем считать, что каждый столбец - это признак, а строка - наблюдение. Затем найдите среднее значение по каждому признаку, используя метод mean массива Numpy. Результат запишите в массив mean_a, в нем должно быть 2 элемента.* "
      ]
    },
    {
      "cell_type": "markdown",
      "metadata": {
        "id": "NIYNqlL55LmJ"
      },
      "source": [
        "Импортиуем библиотеку Numpy"
      ]
    },
    {
      "cell_type": "code",
      "metadata": {
        "id": "viQMPX5b4pbi"
      },
      "source": [
        "import numpy as np\n"
      ],
      "execution_count": 2,
      "outputs": []
    },
    {
      "cell_type": "markdown",
      "metadata": {
        "id": "cmJnYrTk5Vja"
      },
      "source": [
        "Создаем матрицу numpy\n"
      ]
    },
    {
      "cell_type": "code",
      "metadata": {
        "colab": {
          "base_uri": "https://localhost:8080/"
        },
        "id": "RHphzbTa5aJm",
        "outputId": "c5949a4a-5b2e-4fd9-c726-b7d072e2a841"
      },
      "source": [
        "a = np.array([[1, 6],\n",
        "              [2, 8],\n",
        "              [3, 11],\n",
        "              [3, 10],\n",
        "              [1, 7]])\n",
        "print('Массив а:')\n",
        "print(a)"
      ],
      "execution_count": 4,
      "outputs": [
        {
          "output_type": "stream",
          "text": [
            "Массив а:\n",
            "[[ 1  6]\n",
            " [ 2  8]\n",
            " [ 3 11]\n",
            " [ 3 10]\n",
            " [ 1  7]]\n"
          ],
          "name": "stdout"
        }
      ]
    },
    {
      "cell_type": "markdown",
      "metadata": {
        "id": "J42iVic27S4Z"
      },
      "source": [
        "Найдем среднее значение по признакам, то есть по столбцам"
      ]
    },
    {
      "cell_type": "code",
      "metadata": {
        "colab": {
          "base_uri": "https://localhost:8080/"
        },
        "id": "KSihPWjX7cH_",
        "outputId": "9f4a8392-750a-4b6e-85c5-71acfe701fbe"
      },
      "source": [
        "mean_a = a.mean(axis=0)\n",
        "print(f'mean_a = {mean_a}')"
      ],
      "execution_count": 34,
      "outputs": [
        {
          "output_type": "stream",
          "text": [
            "mean_a = [2.  8.4]\n"
          ],
          "name": "stdout"
        }
      ]
    },
    {
      "cell_type": "markdown",
      "metadata": {
        "id": "-qCwY5-58I5K"
      },
      "source": [
        "# Task 2\n",
        "> *Вычислите массив a_centered, отняв от значений массива “а” средние значения соответствующих признаков, содержащиеся в массиве mean_a. Вычисление должно производиться в одно действие. Получившийся массив должен иметь размер 5x2.*\n"
      ]
    },
    {
      "cell_type": "markdown",
      "metadata": {
        "id": "tp5Vc0mIvjJa"
      },
      "source": [
        "Вычитаем из массива \"a\" \"вектор mean_a\""
      ]
    },
    {
      "cell_type": "code",
      "metadata": {
        "colab": {
          "base_uri": "https://localhost:8080/"
        },
        "id": "XHnODL119IOw",
        "outputId": "8db109dd-3c8e-4629-d35f-4675dd9852ca"
      },
      "source": [
        "a_centered = a - mean_a\n",
        "print('Массив a_centered: ')\n",
        "print(a_centered)"
      ],
      "execution_count": 33,
      "outputs": [
        {
          "output_type": "stream",
          "text": [
            "Массив a_centered: \n",
            "[[-1.  -2.4]\n",
            " [ 0.  -0.4]\n",
            " [ 1.   2.6]\n",
            " [ 1.   1.6]\n",
            " [-1.  -1.4]]\n"
          ],
          "name": "stdout"
        }
      ]
    },
    {
      "cell_type": "markdown",
      "metadata": {
        "id": "LNzQ3YVs9ul-"
      },
      "source": [
        "## Task 3\n",
        ">*Найдите скалярное произведение столбцов массива a_centered. В результате должна получиться величина a_centered_sp. Затем поделите a_centered_sp на N-1, где N - число наблюдений.*"
      ]
    },
    {
      "cell_type": "markdown",
      "metadata": {
        "id": "SFF0HxsOvvUM"
      },
      "source": [
        "Вычисляем скалярное произведение первого столбца на второй используя оепрацию скалярного произведения \"@\". (Элементы первого столбца умножаем на поэлементно и на элементы второго столбца и складываем все вместе). Столбцы выбираем с помощью срезов"
      ]
    },
    {
      "cell_type": "code",
      "metadata": {
        "colab": {
          "base_uri": "https://localhost:8080/"
        },
        "id": "UZHgU10jBs0W",
        "outputId": "d0794b51-c549-4333-daca-5411d1c55ecc"
      },
      "source": [
        "# Можно вычсилсить скалярное произведение, используя транспонированную матрицу\n",
        "# a_centered_sp = a_centered.T[0] @ a_centered.T[1]\n",
        "# или используя срезы\n",
        "a_centered_sp = a_centered[:, 0] @ a_centered[:, 1]\n",
        "print(f'Скалярное произведение столбцов равно: {a_centered_sp}')\n",
        "print(f'Число наблюдений равно: {a[:,0].size}')\n",
        "print(f'Результат a_centered_sp/(N-1) = {a_centered_sp/(a[:,0].size - 1)}')\n"
      ],
      "execution_count": 30,
      "outputs": [
        {
          "output_type": "stream",
          "text": [
            "Скалярное произведение столбцов равно: 8.0\n",
            "Число наблюдений равно: 5\n",
            "Результат a_centered_sp/(N-1) = 2.0\n"
          ],
          "name": "stdout"
        }
      ]
    },
    {
      "cell_type": "markdown",
      "metadata": {
        "id": "BQ7rDDKsWHfS"
      },
      "source": [
        "## Task 4\n",
        ">*Число, которое мы получили в конце задания 3 является ковариацией двух признаков, содержащихся в массиве “а”. В задании 4 мы делили сумму произведений центрированных признаков на N-1, а не на N, поэтому полученная нами величина является несмещенной оценкой ковариации.\n",
        "Подробнее узнать о ковариации можно здесь:\n",
        "[Выборочная ковариация и выборочная дисперсия — Студопедия](https://)\n",
        "В этом задании проверьте получившееся число, вычислив ковариацию еще одним способом - с помощью функции np.cov. В качестве аргумента m функция np.cov должна принимать транспонированный массив “a”. В получившейся ковариационной матрице (массив Numpy размером 2x2) искомое значение ковариации будет равно элементу в строке с индексом 0 и столбце с индексом 1.*\n"
      ]
    },
    {
      "cell_type": "code",
      "metadata": {
        "colab": {
          "base_uri": "https://localhost:8080/"
        },
        "id": "oZEYdvwlWz-W",
        "outputId": "c3bdceae-f4ad-45ce-e331-f71309c89867"
      },
      "source": [
        "cov1 = a_centered_sp/(a[:,0].size - 1)\n",
        "cov_m = np.cov(a.T)\n",
        "cov2 = cov_m[0,1]\n",
        "assert cov1 == cov2\n",
        "print('Значения ковариации, вычисленные разными способами равны')\n"
      ],
      "execution_count": 42,
      "outputs": [
        {
          "output_type": "stream",
          "text": [
            "Значения ковариации, вычисленные разными способами равны\n"
          ],
          "name": "stdout"
        }
      ]
    }
  ]
}